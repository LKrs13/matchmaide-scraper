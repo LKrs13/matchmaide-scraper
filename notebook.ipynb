{
 "cells": [
  {
   "cell_type": "code",
   "execution_count": 1,
   "metadata": {},
   "outputs": [],
   "source": [
    "import pandas as pd"
   ]
  },
  {
   "cell_type": "code",
   "execution_count": 2,
   "metadata": {},
   "outputs": [],
   "source": [
    "df = pd.read_csv('tiktok_influencers.csv')"
   ]
  },
  {
   "cell_type": "code",
   "execution_count": 11,
   "metadata": {},
   "outputs": [
    {
     "data": {
      "text/html": [
       "<div>\n",
       "<style scoped>\n",
       "    .dataframe tbody tr th:only-of-type {\n",
       "        vertical-align: middle;\n",
       "    }\n",
       "\n",
       "    .dataframe tbody tr th {\n",
       "        vertical-align: top;\n",
       "    }\n",
       "\n",
       "    .dataframe thead th {\n",
       "        text-align: right;\n",
       "    }\n",
       "</style>\n",
       "<table border=\"1\" class=\"dataframe\">\n",
       "  <thead>\n",
       "    <tr style=\"text-align: right;\">\n",
       "      <th></th>\n",
       "      <th>username</th>\n",
       "      <th>continent</th>\n",
       "      <th>tier</th>\n",
       "      <th>language</th>\n",
       "      <th>id</th>\n",
       "      <th>verified</th>\n",
       "      <th>signature</th>\n",
       "      <th>bioLink</th>\n",
       "      <th>commerceUser</th>\n",
       "      <th>commerceCategory</th>\n",
       "      <th>commerceButton</th>\n",
       "      <th>region</th>\n",
       "      <th>following</th>\n",
       "      <th>followers</th>\n",
       "      <th>total_likes</th>\n",
       "      <th>total_videos</th>\n",
       "      <th>videos_liked</th>\n",
       "    </tr>\n",
       "  </thead>\n",
       "  <tbody>\n",
       "    <tr>\n",
       "      <th>2646</th>\n",
       "      <td>quettaqueen__009</td>\n",
       "      <td>Asia</td>\n",
       "      <td>macro</td>\n",
       "      <td>English</td>\n",
       "      <td>6639763678622187526</td>\n",
       "      <td>False</td>\n",
       "      <td>Follow me\\nINSTAGRAH : 🆔 \\n(Hunny fyb)</td>\n",
       "      <td>NaN</td>\n",
       "      <td>False</td>\n",
       "      <td>none</td>\n",
       "      <td>False</td>\n",
       "      <td>US</td>\n",
       "      <td>28</td>\n",
       "      <td>762600</td>\n",
       "      <td>9600000</td>\n",
       "      <td>1973</td>\n",
       "      <td>0</td>\n",
       "    </tr>\n",
       "  </tbody>\n",
       "</table>\n",
       "</div>"
      ],
      "text/plain": [
       "              username continent   tier language                   id  \\\n",
       "2646  quettaqueen__009      Asia  macro  English  6639763678622187526   \n",
       "\n",
       "      verified                               signature bioLink  commerceUser  \\\n",
       "2646     False  Follow me\\nINSTAGRAH : 🆔 \\n(Hunny fyb)     NaN         False   \n",
       "\n",
       "     commerceCategory  commerceButton region  following  followers  \\\n",
       "2646             none           False     US         28     762600   \n",
       "\n",
       "      total_likes  total_videos  videos_liked  \n",
       "2646      9600000          1973             0  "
      ]
     },
     "execution_count": 11,
     "metadata": {},
     "output_type": "execute_result"
    }
   ],
   "source": [
    "df[df['username'] == 'quettaqueen__009']"
   ]
  },
  {
   "cell_type": "code",
   "execution_count": null,
   "metadata": {},
   "outputs": [],
   "source": []
  },
  {
   "cell_type": "code",
   "execution_count": null,
   "metadata": {},
   "outputs": [],
   "source": []
  }
 ],
 "metadata": {
  "kernelspec": {
   "display_name": "venv",
   "language": "python",
   "name": "python3"
  },
  "language_info": {
   "codemirror_mode": {
    "name": "ipython",
    "version": 3
   },
   "file_extension": ".py",
   "mimetype": "text/x-python",
   "name": "python",
   "nbconvert_exporter": "python",
   "pygments_lexer": "ipython3",
   "version": "3.11.5"
  }
 },
 "nbformat": 4,
 "nbformat_minor": 2
}
